{
 "cells": [
  {
   "cell_type": "markdown",
   "metadata": {},
   "source": [
    "I rely on [1,639 human transcription factor gene names](http://humantfs.ccbr.utoronto.ca/download/v_1.01/TF_names_v_1.01.txt)."
   ]
  },
  {
   "cell_type": "code",
   "execution_count": 9,
   "metadata": {},
   "outputs": [
    {
     "name": "stdout",
     "output_type": "stream",
     "text": [
      "True\n"
     ]
    }
   ],
   "source": [
    "import os\n",
    "\n",
    "# Get Human TFs\n",
    "tfs = set()\n",
    "with open(\"./TF_names_v_1.01.txt\") as f:\n",
    "    for line in f:\n",
    "        line = line.strip()\n",
    "        tfs.add(line)\n",
    "\n",
    "# Sanity check:\n",
    "print(\"CTCF\" in tfs)"
   ]
  },
  {
   "cell_type": "code",
   "execution_count": 20,
   "metadata": {},
   "outputs": [
    {
     "name": "stdout",
     "output_type": "stream",
     "text": [
      "19350383 412\n",
      "The total number of human TFs in ReMap 2020 is: 800\n",
      "The total number of human TFs in ReMap 2020 with only 1 dataset is: 381\n",
      "The total number of human TFs in ReMap 2020 with less than 1,000 peaks is: 134\n"
     ]
    }
   ],
   "source": [
    "import re\n",
    "\n",
    "# Get ReMap 2020 datasets per TF\n",
    "tf2datasets = {}\n",
    "with open(\"./remap2020_datasets.txt\") as f:\n",
    "    for line in f:\n",
    "        line = line.strip()\n",
    "        m = re.search(\"(\\d+)\\s+(.+)\", line)\n",
    "        dataset = m.group(2).split(\".\")\n",
    "        tf = dataset[1].split(\"_\")\n",
    "        # Focus on human TFs\n",
    "        if tf[0] not in tfs:\n",
    "            continue\n",
    "        tf2datasets.setdefault(tf[0], [[], []])\n",
    "        tf2datasets[tf[0]][0].append(int(m.group(1)))\n",
    "        tf2datasets[tf[0]][1].append(m.group(2))\n",
    "\n",
    "# Sanity check: according to ReMap (http://remap.univ-amu.fr/target_page/CTCF:9606), the number of CTCF datasets\n",
    "# is 412, and the number of peaks 19,350,383\n",
    "print(sum(tf2datasets[\"CTCF\"][0]), len(tf2datasets[\"CTCF\"][1]))\n",
    "\n",
    "# The total number of human TFs in ReMap 2020 is?\n",
    "print(\"The total number of human TFs in ReMap 2020 is: %s\" % len(tf2datasets.keys()))\n",
    "# The total number of human TFs in ReMap 2020 with only 1 dataset is?\n",
    "m = 0\n",
    "for tf in tf2datasets:\n",
    "    if len(tf2datasets[tf][1]) == 1:\n",
    "        m += 1\n",
    "print(\"The total number of human TFs in ReMap 2020 with only 1 dataset is: %s\" % m)\n",
    "# The total number of human TFs in ReMap 2020 with less than 1,000 peaks is?\n",
    "n = 0\n",
    "for tf in tf2datasets:\n",
    "    if sum(tf2datasets[tf][0]) < 1000:\n",
    "        n += 1\n",
    "print(\"The total number of human TFs in ReMap 2020 with less than 1,000 peaks is: %s\" % n)"
   ]
  }
 ],
 "metadata": {
  "kernelspec": {
   "display_name": "Python 3",
   "language": "python",
   "name": "python3"
  },
  "language_info": {
   "codemirror_mode": {
    "name": "ipython",
    "version": 3
   },
   "file_extension": ".py",
   "mimetype": "text/x-python",
   "name": "python",
   "nbconvert_exporter": "python",
   "pygments_lexer": "ipython3",
   "version": "3.7.6"
  }
 },
 "nbformat": 4,
 "nbformat_minor": 4
}
